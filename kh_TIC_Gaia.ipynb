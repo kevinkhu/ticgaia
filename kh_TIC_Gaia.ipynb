{
 "cells": [
  {
   "cell_type": "code",
   "execution_count": 1,
   "id": "dfe841e1-8899-43a4-b9b4-fbb1f67d625d",
   "metadata": {
    "execution": {
     "iopub.execute_input": "2025-01-18T20:12:54.412747Z",
     "iopub.status.busy": "2025-01-18T20:12:54.412579Z",
     "iopub.status.idle": "2025-01-18T20:12:54.598690Z",
     "shell.execute_reply": "2025-01-18T20:12:54.598372Z",
     "shell.execute_reply.started": "2025-01-18T20:12:54.412736Z"
    }
   },
   "outputs": [],
   "source": [
    "import numpy as np\n",
    "import polars as pl\n",
    "import glob\n",
    "from tqdm import tqdm\n",
    "import warnings\n",
    "warnings.filterwarnings(\"ignore\")"
   ]
  },
  {
   "cell_type": "markdown",
   "id": "f165b5e7-e0b7-4ccc-afe7-6ba52ab9eafb",
   "metadata": {},
   "source": [
    "* ## The following will require ~750 GB of hard drive space and ~400 GB of RAM/Swap memory.\n",
    "\n",
    "* ## Please download all [TIC files](https://archive.stsci.edu/tess/tic_ctl.html) into a subdirectory 'tic' and [Gaia dr2_neighbourhood files](https://cdn.gea.esac.esa.int/Gaia/gedr3/auxiliary/dr2_neighbourhood/) into a subdirectory 'gaia.'"
   ]
  },
  {
   "cell_type": "markdown",
   "id": "3a731b07-9a6c-4ec5-8e9a-08aaa50d5b28",
   "metadata": {},
   "source": [
    "## Create one large TIC file with TIC ID and Gaia DR2 ID"
   ]
  },
  {
   "cell_type": "code",
   "execution_count": 2,
   "id": "8dd0a475-fff1-463d-bae0-540f940d17fb",
   "metadata": {
    "execution": {
     "iopub.execute_input": "2025-01-18T20:12:54.599212Z",
     "iopub.status.busy": "2025-01-18T20:12:54.599020Z",
     "iopub.status.idle": "2025-01-18T21:00:47.817817Z",
     "shell.execute_reply": "2025-01-18T21:00:47.809021Z",
     "shell.execute_reply.started": "2025-01-18T20:12:54.599201Z"
    }
   },
   "outputs": [
    {
     "name": "stderr",
     "output_type": "stream",
     "text": [
      "100%|███████████████████████████████████████████| 90/90 [47:53<00:00, 31.92s/it]\n"
     ]
    },
    {
     "data": {
      "text/html": [
       "<div><style>\n",
       ".dataframe > thead > tr,\n",
       ".dataframe > tbody > tr {\n",
       "  text-align: right;\n",
       "  white-space: pre-wrap;\n",
       "}\n",
       "</style>\n",
       "<small>shape: (1_727_987_580, 2)</small><table border=\"1\" class=\"dataframe\"><thead><tr><th>TIC</th><th>dr2_source_id</th></tr><tr><td>i64</td><td>i64</td></tr></thead><tbody><tr><td>649490745</td><td>567863400304597120</td></tr><tr><td>649521389</td><td>568631512255721984</td></tr><tr><td>649522563</td><td>568744040398246656</td></tr><tr><td>649522587</td><td>568744727593344896</td></tr><tr><td>649489483</td><td>567840482358622080</td></tr><tr><td>&hellip;</td><td>&hellip;</td></tr><tr><td>2041172943</td><td>1926286857958953728</td></tr><tr><td>2041173966</td><td>1926301426485931392</td></tr><tr><td>2041174354</td><td>1926307370720624256</td></tr><tr><td>2041162198</td><td>1926126874720155264</td></tr><tr><td>2041174356</td><td>1926307370722682368</td></tr></tbody></table></div>"
      ],
      "text/plain": [
       "shape: (1_727_987_580, 2)\n",
       "┌────────────┬─────────────────────┐\n",
       "│ TIC        ┆ dr2_source_id       │\n",
       "│ ---        ┆ ---                 │\n",
       "│ i64        ┆ i64                 │\n",
       "╞════════════╪═════════════════════╡\n",
       "│ 649490745  ┆ 567863400304597120  │\n",
       "│ 649521389  ┆ 568631512255721984  │\n",
       "│ 649522563  ┆ 568744040398246656  │\n",
       "│ 649522587  ┆ 568744727593344896  │\n",
       "│ 649489483  ┆ 567840482358622080  │\n",
       "│ …          ┆ …                   │\n",
       "│ 2041172943 ┆ 1926286857958953728 │\n",
       "│ 2041173966 ┆ 1926301426485931392 │\n",
       "│ 2041174354 ┆ 1926307370720624256 │\n",
       "│ 2041162198 ┆ 1926126874720155264 │\n",
       "│ 2041174356 ┆ 1926307370722682368 │\n",
       "└────────────┴─────────────────────┘"
      ]
     },
     "execution_count": 2,
     "metadata": {},
     "output_type": "execute_result"
    }
   ],
   "source": [
    "# Specify the directory and columns\n",
    "tic_directory = 'tic/'\n",
    "columns = [0,8]\n",
    "\n",
    "# Get a list of all csv.gz files in the directory\n",
    "files = glob.glob(tic_directory + 'tic_dec*.csv.gz')\n",
    "\n",
    "# Create an empty list to store the dataframes\n",
    "dfs = []\n",
    "\n",
    "# Loop over the files and read them into dataframes\n",
    "for file in tqdm(files):\n",
    "    df = pl.read_csv(file, columns=columns, has_header=False, new_columns=[\"TIC\", \"dr2_source_id\"],\n",
    "                     dtypes={\"TIC\": pl.Int64, \"dr2_source_id\": pl.Int64})\n",
    "    dfs.append(df)\n",
    "\n",
    "# Concatenate all dataframes into one\n",
    "result = pl.concat(dfs, how=\"vertical\")\n",
    "\n",
    "result"
   ]
  },
  {
   "cell_type": "markdown",
   "id": "6d75801e-6052-425f-9e9f-34942e4a469a",
   "metadata": {},
   "source": [
    "#### Sort the dataframe by Gaia DR2 ID and drop TIC targets without a Gaia DR2 ID"
   ]
  },
  {
   "cell_type": "code",
   "execution_count": 3,
   "id": "5e69a6d9-42d2-4574-81be-6805e2e726fb",
   "metadata": {
    "execution": {
     "iopub.execute_input": "2025-01-18T21:00:47.835408Z",
     "iopub.status.busy": "2025-01-18T21:00:47.834099Z",
     "iopub.status.idle": "2025-01-18T21:06:20.679161Z",
     "shell.execute_reply": "2025-01-18T21:06:20.669435Z",
     "shell.execute_reply.started": "2025-01-18T21:00:47.835394Z"
    }
   },
   "outputs": [
    {
     "data": {
      "text/html": [
       "<div><style>\n",
       ".dataframe > thead > tr,\n",
       ".dataframe > tbody > tr {\n",
       "  text-align: right;\n",
       "  white-space: pre-wrap;\n",
       "}\n",
       "</style>\n",
       "<small>shape: (1_703_202_148, 2)</small><table border=\"1\" class=\"dataframe\"><thead><tr><th>TIC</th><th>dr2_source_id</th></tr><tr><td>i64</td><td>i64</td></tr></thead><tbody><tr><td>439902055</td><td>4295806720</td></tr><tr><td>439902052</td><td>34361129088</td></tr><tr><td>439902053</td><td>38655544960</td></tr><tr><td>439902049</td><td>309238066432</td></tr><tr><td>439902048</td><td>343597448960</td></tr><tr><td>&hellip;</td><td>&hellip;</td></tr><tr><td>1997435056</td><td>6917528963217645568</td></tr><tr><td>248849678</td><td>6917528993281571840</td></tr><tr><td>1997435057</td><td>6917528993281819008</td></tr><tr><td>1997435058</td><td>6917528993283204480</td></tr><tr><td>248849676</td><td>6917528997577384320</td></tr></tbody></table></div>"
      ],
      "text/plain": [
       "shape: (1_703_202_148, 2)\n",
       "┌────────────┬─────────────────────┐\n",
       "│ TIC        ┆ dr2_source_id       │\n",
       "│ ---        ┆ ---                 │\n",
       "│ i64        ┆ i64                 │\n",
       "╞════════════╪═════════════════════╡\n",
       "│ 439902055  ┆ 4295806720          │\n",
       "│ 439902052  ┆ 34361129088         │\n",
       "│ 439902053  ┆ 38655544960         │\n",
       "│ 439902049  ┆ 309238066432        │\n",
       "│ 439902048  ┆ 343597448960        │\n",
       "│ …          ┆ …                   │\n",
       "│ 1997435056 ┆ 6917528963217645568 │\n",
       "│ 248849678  ┆ 6917528993281571840 │\n",
       "│ 1997435057 ┆ 6917528993281819008 │\n",
       "│ 1997435058 ┆ 6917528993283204480 │\n",
       "│ 248849676  ┆ 6917528997577384320 │\n",
       "└────────────┴─────────────────────┘"
      ]
     },
     "execution_count": 3,
     "metadata": {},
     "output_type": "execute_result"
    }
   ],
   "source": [
    "tic = result.sort(\"dr2_source_id\")\n",
    "tic = tic.drop_nulls()\n",
    "tic"
   ]
  },
  {
   "cell_type": "markdown",
   "id": "2d7fc608-9afa-4d65-8dd0-8217bb9007a0",
   "metadata": {},
   "source": [
    "#### Save the TIC file!"
   ]
  },
  {
   "cell_type": "code",
   "execution_count": 4,
   "id": "5682e036-380a-403e-b359-44ffdc6db5af",
   "metadata": {
    "execution": {
     "iopub.execute_input": "2025-01-18T21:06:20.699151Z",
     "iopub.status.busy": "2025-01-18T21:06:20.695876Z",
     "iopub.status.idle": "2025-01-18T21:07:09.359904Z",
     "shell.execute_reply": "2025-01-18T21:07:09.359272Z",
     "shell.execute_reply.started": "2025-01-18T21:06:20.699134Z"
    }
   },
   "outputs": [],
   "source": [
    "tic.write_csv(tic_directory+\"tic.csv\",separator=\",\")"
   ]
  },
  {
   "cell_type": "markdown",
   "id": "a966c3fb-4b14-437b-a7f0-c444dcf840b5",
   "metadata": {},
   "source": [
    "## Create one large Gaia DR2/DR3 file"
   ]
  },
  {
   "cell_type": "code",
   "execution_count": 5,
   "id": "31f6fa19-f832-4ddb-a37a-4ffec997b390",
   "metadata": {
    "execution": {
     "iopub.execute_input": "2025-01-18T21:07:09.361865Z",
     "iopub.status.busy": "2025-01-18T21:07:09.361744Z",
     "iopub.status.idle": "2025-01-18T21:13:35.350173Z",
     "shell.execute_reply": "2025-01-18T21:13:35.342124Z",
     "shell.execute_reply.started": "2025-01-18T21:07:09.361854Z"
    }
   },
   "outputs": [
    {
     "name": "stderr",
     "output_type": "stream",
     "text": [
      "100%|█████████████████████████████████████████| 783/783 [06:24<00:00,  2.04it/s]\n"
     ]
    },
    {
     "data": {
      "text/html": [
       "<div><style>\n",
       ".dataframe > thead > tr,\n",
       ".dataframe > tbody > tr {\n",
       "  text-align: right;\n",
       "  white-space: pre-wrap;\n",
       "}\n",
       "</style>\n",
       "<small>shape: (1_669_795_780, 4)</small><table border=\"1\" class=\"dataframe\"><thead><tr><th>dr2_source_id</th><th>dr3_source_id</th><th>angular_distance</th><th>magnitude_difference</th></tr><tr><td>i64</td><td>i64</td><td>f64</td><td>f64</td></tr></thead><tbody><tr><td>4341712624834004992</td><td>4341712624834004992</td><td>0.045163</td><td>-0.059719</td></tr><tr><td>3477842384888461312</td><td>3477842384888461312</td><td>0.466344</td><td>-0.111376</td></tr><tr><td>6349707584874251776</td><td>6349707584874251776</td><td>0.163466</td><td>-0.030685</td></tr><tr><td>4210285968450021888</td><td>4210285972751447040</td><td>0.093154</td><td>-0.021759</td></tr><tr><td>5859213768395513344</td><td>5859213768395513344</td><td>13.680017</td><td>-0.124718</td></tr><tr><td>&hellip;</td><td>&hellip;</td><td>&hellip;</td><td>&hellip;</td></tr><tr><td>6033100879525167744</td><td>6033100879525167744</td><td>0.091092</td><td>-0.011508</td></tr><tr><td>6029172633773262976</td><td>6029172633773262976</td><td>11.851263</td><td>-0.114599</td></tr><tr><td>4148884153918319744</td><td>4148884153918319744</td><td>0.1571634</td><td>-0.033903</td></tr><tr><td>6239338332800607744</td><td>6239338332800607744</td><td>0.4106341</td><td>-0.020346</td></tr><tr><td>5355223953488978304</td><td>5355223953488978304</td><td>0.48139</td><td>-0.032173</td></tr></tbody></table></div>"
      ],
      "text/plain": [
       "shape: (1_669_795_780, 4)\n",
       "┌─────────────────────┬─────────────────────┬──────────────────┬──────────────────────┐\n",
       "│ dr2_source_id       ┆ dr3_source_id       ┆ angular_distance ┆ magnitude_difference │\n",
       "│ ---                 ┆ ---                 ┆ ---              ┆ ---                  │\n",
       "│ i64                 ┆ i64                 ┆ f64              ┆ f64                  │\n",
       "╞═════════════════════╪═════════════════════╪══════════════════╪══════════════════════╡\n",
       "│ 4341712624834004992 ┆ 4341712624834004992 ┆ 0.045163         ┆ -0.059719            │\n",
       "│ 3477842384888461312 ┆ 3477842384888461312 ┆ 0.466344         ┆ -0.111376            │\n",
       "│ 6349707584874251776 ┆ 6349707584874251776 ┆ 0.163466         ┆ -0.030685            │\n",
       "│ 4210285968450021888 ┆ 4210285972751447040 ┆ 0.093154         ┆ -0.021759            │\n",
       "│ 5859213768395513344 ┆ 5859213768395513344 ┆ 13.680017        ┆ -0.124718            │\n",
       "│ …                   ┆ …                   ┆ …                ┆ …                    │\n",
       "│ 6033100879525167744 ┆ 6033100879525167744 ┆ 0.091092         ┆ -0.011508            │\n",
       "│ 6029172633773262976 ┆ 6029172633773262976 ┆ 11.851263        ┆ -0.114599            │\n",
       "│ 4148884153918319744 ┆ 4148884153918319744 ┆ 0.1571634        ┆ -0.033903            │\n",
       "│ 6239338332800607744 ┆ 6239338332800607744 ┆ 0.4106341        ┆ -0.020346            │\n",
       "│ 5355223953488978304 ┆ 5355223953488978304 ┆ 0.48139          ┆ -0.032173            │\n",
       "└─────────────────────┴─────────────────────┴──────────────────┴──────────────────────┘"
      ]
     },
     "execution_count": 5,
     "metadata": {},
     "output_type": "execute_result"
    }
   ],
   "source": [
    "# Specify the Gaia file directory\n",
    "gaia_directory = 'gaia/'\n",
    "\n",
    "# Get a list of all csv.gz files in the directory\n",
    "files = glob.glob(gaia_directory + 'Dr2Neighbourhood_*.csv.gz')\n",
    "\n",
    "# Create an empty list to store the dataframes\n",
    "dfs = []\n",
    "\n",
    "# Loop over the files, read them into dataframes, and perform some quality cuts\n",
    "for file in tqdm(files):\n",
    "    df = pl.read_csv(file, has_header=True, dtypes={\"dr2_source_id\": pl.Int64, \"dr3_source_id\": pl.Int64})\n",
    "    \n",
    "    # Drop proper motion propagation column\n",
    "    df = df.drop(\"proper_motion_propagation\")\n",
    "\n",
    "    # Remove targets with distances greater than 100 mas and a G-band magnitude difference greater than 0.2 mag\n",
    "    df = df.filter(df[\"angular_distance\"] < 100)\n",
    "    df = df.filter(np.abs(df[\"magnitude_difference\"]) < 0.2)\n",
    "    \n",
    "    dfs.append(df)\n",
    "\n",
    "# Concatenate all dataframes into one\n",
    "result = pl.concat(dfs, how=\"vertical\")\n",
    "\n",
    "result"
   ]
  },
  {
   "cell_type": "markdown",
   "id": "e6e3a281-415c-444a-a3a3-27a9e147e3b8",
   "metadata": {},
   "source": [
    "#### Sort the dataframe by Gaia DR2 ID"
   ]
  },
  {
   "cell_type": "code",
   "execution_count": 6,
   "id": "96786f28-8b42-4493-ae52-d27369d0829d",
   "metadata": {
    "execution": {
     "iopub.execute_input": "2025-01-18T21:13:35.376552Z",
     "iopub.status.busy": "2025-01-18T21:13:35.374640Z",
     "iopub.status.idle": "2025-01-18T21:24:43.331283Z",
     "shell.execute_reply": "2025-01-18T21:24:43.322645Z",
     "shell.execute_reply.started": "2025-01-18T21:13:35.376537Z"
    }
   },
   "outputs": [
    {
     "data": {
      "text/html": [
       "<div><style>\n",
       ".dataframe > thead > tr,\n",
       ".dataframe > tbody > tr {\n",
       "  text-align: right;\n",
       "  white-space: pre-wrap;\n",
       "}\n",
       "</style>\n",
       "<small>shape: (1_669_795_780, 4)</small><table border=\"1\" class=\"dataframe\"><thead><tr><th>dr2_source_id</th><th>dr3_source_id</th><th>angular_distance</th><th>magnitude_difference</th></tr><tr><td>i64</td><td>i64</td><td>f64</td><td>f64</td></tr></thead><tbody><tr><td>4295806720</td><td>4295806720</td><td>0.139224</td><td>-0.012514</td></tr><tr><td>34361129088</td><td>34361129088</td><td>0.234338</td><td>-0.032408</td></tr><tr><td>38655544960</td><td>38655544960</td><td>0.074779</td><td>-0.012037</td></tr><tr><td>309238066432</td><td>309238066432</td><td>0.148353</td><td>-0.024946</td></tr><tr><td>343597448960</td><td>343597448960</td><td>0.1402964</td><td>-0.013454</td></tr><tr><td>&hellip;</td><td>&hellip;</td><td>&hellip;</td><td>&hellip;</td></tr><tr><td>6917528963217645568</td><td>6917528963217645568</td><td>2.2794328</td><td>-0.050938</td></tr><tr><td>6917528993281571840</td><td>6917528993281571840</td><td>0.316184</td><td>-0.014524</td></tr><tr><td>6917528993281819008</td><td>6917528993281819008</td><td>0.6179533</td><td>-0.033461</td></tr><tr><td>6917528993283204480</td><td>6917528993283204480</td><td>1.417878</td><td>-0.040546</td></tr><tr><td>6917528997577384320</td><td>6917528997577384320</td><td>0.118484</td><td>-0.007746</td></tr></tbody></table></div>"
      ],
      "text/plain": [
       "shape: (1_669_795_780, 4)\n",
       "┌─────────────────────┬─────────────────────┬──────────────────┬──────────────────────┐\n",
       "│ dr2_source_id       ┆ dr3_source_id       ┆ angular_distance ┆ magnitude_difference │\n",
       "│ ---                 ┆ ---                 ┆ ---              ┆ ---                  │\n",
       "│ i64                 ┆ i64                 ┆ f64              ┆ f64                  │\n",
       "╞═════════════════════╪═════════════════════╪══════════════════╪══════════════════════╡\n",
       "│ 4295806720          ┆ 4295806720          ┆ 0.139224         ┆ -0.012514            │\n",
       "│ 34361129088         ┆ 34361129088         ┆ 0.234338         ┆ -0.032408            │\n",
       "│ 38655544960         ┆ 38655544960         ┆ 0.074779         ┆ -0.012037            │\n",
       "│ 309238066432        ┆ 309238066432        ┆ 0.148353         ┆ -0.024946            │\n",
       "│ 343597448960        ┆ 343597448960        ┆ 0.1402964        ┆ -0.013454            │\n",
       "│ …                   ┆ …                   ┆ …                ┆ …                    │\n",
       "│ 6917528963217645568 ┆ 6917528963217645568 ┆ 2.2794328        ┆ -0.050938            │\n",
       "│ 6917528993281571840 ┆ 6917528993281571840 ┆ 0.316184         ┆ -0.014524            │\n",
       "│ 6917528993281819008 ┆ 6917528993281819008 ┆ 0.6179533        ┆ -0.033461            │\n",
       "│ 6917528993283204480 ┆ 6917528993283204480 ┆ 1.417878         ┆ -0.040546            │\n",
       "│ 6917528997577384320 ┆ 6917528997577384320 ┆ 0.118484         ┆ -0.007746            │\n",
       "└─────────────────────┴─────────────────────┴──────────────────┴──────────────────────┘"
      ]
     },
     "execution_count": 6,
     "metadata": {},
     "output_type": "execute_result"
    }
   ],
   "source": [
    "# Sort by Gaia DR2 ID\n",
    "gaia = result.sort(\"dr2_source_id\")\n",
    "gaia"
   ]
  },
  {
   "cell_type": "markdown",
   "id": "b92f205b-2b06-4332-aa84-2651a2b686f8",
   "metadata": {},
   "source": [
    "#### Save the Gaia file!"
   ]
  },
  {
   "cell_type": "code",
   "execution_count": 7,
   "id": "a74a104f-1029-4800-9d75-780f9cf87558",
   "metadata": {
    "execution": {
     "iopub.execute_input": "2025-01-18T21:24:43.348240Z",
     "iopub.status.busy": "2025-01-18T21:24:43.346445Z",
     "iopub.status.idle": "2025-01-18T21:27:51.040660Z",
     "shell.execute_reply": "2025-01-18T21:27:51.039693Z",
     "shell.execute_reply.started": "2025-01-18T21:24:43.348223Z"
    }
   },
   "outputs": [],
   "source": [
    "gaia.write_csv(gaia_directory+\"gaia.csv\",separator=\",\")"
   ]
  },
  {
   "cell_type": "markdown",
   "id": "a12b387d-921f-4014-ba2d-683b22a7b143",
   "metadata": {},
   "source": [
    "## Merge the TIC and Gaia files"
   ]
  },
  {
   "cell_type": "code",
   "execution_count": 8,
   "id": "bf23a144-0e80-48e3-b600-f89a60d619af",
   "metadata": {
    "execution": {
     "iopub.execute_input": "2025-01-18T21:27:51.043430Z",
     "iopub.status.busy": "2025-01-18T21:27:51.043283Z",
     "iopub.status.idle": "2025-01-18T21:32:01.799604Z",
     "shell.execute_reply": "2025-01-18T21:32:01.785878Z",
     "shell.execute_reply.started": "2025-01-18T21:27:51.043420Z"
    }
   },
   "outputs": [
    {
     "data": {
      "text/html": [
       "<div><style>\n",
       ".dataframe > thead > tr,\n",
       ".dataframe > tbody > tr {\n",
       "  text-align: right;\n",
       "  white-space: pre-wrap;\n",
       "}\n",
       "</style>\n",
       "<small>shape: (1_680_008_480, 5)</small><table border=\"1\" class=\"dataframe\"><thead><tr><th>TIC</th><th>dr2_source_id</th><th>dr3_source_id</th><th>angular_distance</th><th>magnitude_difference</th></tr><tr><td>i64</td><td>i64</td><td>i64</td><td>f64</td><td>f64</td></tr></thead><tbody><tr><td>439902055</td><td>4295806720</td><td>4295806720</td><td>0.139224</td><td>-0.012514</td></tr><tr><td>439902052</td><td>34361129088</td><td>34361129088</td><td>0.234338</td><td>-0.032408</td></tr><tr><td>439902053</td><td>38655544960</td><td>38655544960</td><td>0.074779</td><td>-0.012037</td></tr><tr><td>439902049</td><td>309238066432</td><td>309238066432</td><td>0.148353</td><td>-0.024946</td></tr><tr><td>439902048</td><td>343597448960</td><td>343597448960</td><td>0.1402964</td><td>-0.013454</td></tr><tr><td>&hellip;</td><td>&hellip;</td><td>&hellip;</td><td>&hellip;</td><td>&hellip;</td></tr><tr><td>1997435056</td><td>6917528963217645568</td><td>6917528963217645568</td><td>2.2794328</td><td>-0.050938</td></tr><tr><td>248849678</td><td>6917528993281571840</td><td>6917528993281571840</td><td>0.316184</td><td>-0.014524</td></tr><tr><td>1997435057</td><td>6917528993281819008</td><td>6917528993281819008</td><td>0.6179533</td><td>-0.033461</td></tr><tr><td>1997435058</td><td>6917528993283204480</td><td>6917528993283204480</td><td>1.417878</td><td>-0.040546</td></tr><tr><td>248849676</td><td>6917528997577384320</td><td>6917528997577384320</td><td>0.118484</td><td>-0.007746</td></tr></tbody></table></div>"
      ],
      "text/plain": [
       "shape: (1_680_008_480, 5)\n",
       "┌────────────┬─────────────────────┬─────────────────────┬──────────────────┬──────────────────────┐\n",
       "│ TIC        ┆ dr2_source_id       ┆ dr3_source_id       ┆ angular_distance ┆ magnitude_difference │\n",
       "│ ---        ┆ ---                 ┆ ---                 ┆ ---              ┆ ---                  │\n",
       "│ i64        ┆ i64                 ┆ i64                 ┆ f64              ┆ f64                  │\n",
       "╞════════════╪═════════════════════╪═════════════════════╪══════════════════╪══════════════════════╡\n",
       "│ 439902055  ┆ 4295806720          ┆ 4295806720          ┆ 0.139224         ┆ -0.012514            │\n",
       "│ 439902052  ┆ 34361129088         ┆ 34361129088         ┆ 0.234338         ┆ -0.032408            │\n",
       "│ 439902053  ┆ 38655544960         ┆ 38655544960         ┆ 0.074779         ┆ -0.012037            │\n",
       "│ 439902049  ┆ 309238066432        ┆ 309238066432        ┆ 0.148353         ┆ -0.024946            │\n",
       "│ 439902048  ┆ 343597448960        ┆ 343597448960        ┆ 0.1402964        ┆ -0.013454            │\n",
       "│ …          ┆ …                   ┆ …                   ┆ …                ┆ …                    │\n",
       "│ 1997435056 ┆ 6917528963217645568 ┆ 6917528963217645568 ┆ 2.2794328        ┆ -0.050938            │\n",
       "│ 248849678  ┆ 6917528993281571840 ┆ 6917528993281571840 ┆ 0.316184         ┆ -0.014524            │\n",
       "│ 1997435057 ┆ 6917528993281819008 ┆ 6917528993281819008 ┆ 0.6179533        ┆ -0.033461            │\n",
       "│ 1997435058 ┆ 6917528993283204480 ┆ 6917528993283204480 ┆ 1.417878         ┆ -0.040546            │\n",
       "│ 248849676  ┆ 6917528997577384320 ┆ 6917528997577384320 ┆ 0.118484         ┆ -0.007746            │\n",
       "└────────────┴─────────────────────┴─────────────────────┴──────────────────┴──────────────────────┘"
      ]
     },
     "execution_count": 8,
     "metadata": {},
     "output_type": "execute_result"
    }
   ],
   "source": [
    "ticgaia = tic.join(gaia,on=\"dr2_source_id\",how=\"inner\")\n",
    "ticgaia"
   ]
  },
  {
   "cell_type": "markdown",
   "id": "0ae91078-9dbc-4ac8-8875-5f1308b977f3",
   "metadata": {},
   "source": [
    "#### Sort the merged dataframe by TIC ID"
   ]
  },
  {
   "cell_type": "code",
   "execution_count": 9,
   "id": "100e0ced-83c2-4bfd-acb0-f9602d9df318",
   "metadata": {
    "execution": {
     "iopub.execute_input": "2025-01-18T21:32:01.817556Z",
     "iopub.status.busy": "2025-01-18T21:32:01.815773Z",
     "iopub.status.idle": "2025-01-18T21:39:32.666345Z",
     "shell.execute_reply": "2025-01-18T21:39:32.656499Z",
     "shell.execute_reply.started": "2025-01-18T21:32:01.817538Z"
    }
   },
   "outputs": [
    {
     "data": {
      "text/html": [
       "<div><style>\n",
       ".dataframe > thead > tr,\n",
       ".dataframe > tbody > tr {\n",
       "  text-align: right;\n",
       "  white-space: pre-wrap;\n",
       "}\n",
       "</style>\n",
       "<small>shape: (1_680_008_480, 5)</small><table border=\"1\" class=\"dataframe\"><thead><tr><th>TIC</th><th>dr2_source_id</th><th>dr3_source_id</th><th>angular_distance</th><th>magnitude_difference</th></tr><tr><td>i64</td><td>i64</td><td>i64</td><td>f64</td><td>f64</td></tr></thead><tbody><tr><td>1</td><td>6220232982534277760</td><td>6220232982534277760</td><td>0.031861</td><td>-0.012459</td></tr><tr><td>2</td><td>6220232913814800640</td><td>6220232913814800640</td><td>0.074949</td><td>-0.027599</td></tr><tr><td>3</td><td>6220232948174541696</td><td>6220232948174541696</td><td>0.063944</td><td>-0.010159</td></tr><tr><td>4</td><td>6220232948174542464</td><td>6220232948174542464</td><td>0.03279</td><td>-0.017881</td></tr><tr><td>5</td><td>6220233016894020352</td><td>6220233016894020352</td><td>0.1054018</td><td>-0.0109</td></tr><tr><td>&hellip;</td><td>&hellip;</td><td>&hellip;</td><td>&hellip;</td><td>&hellip;</td></tr><tr><td>2056111150</td><td>6627816234937364352</td><td>6627816234937364352</td><td>0.5947274</td><td>-0.051826</td></tr><tr><td>2056111151</td><td>6627816445390870656</td><td>6627816445390870656</td><td>3.8710597</td><td>-0.087215</td></tr><tr><td>2056111152</td><td>6627819258594345984</td><td>6627819258594345984</td><td>0.206485</td><td>-0.017647</td></tr><tr><td>2056111153</td><td>6627819297249758976</td><td>6627819297250043520</td><td>0.060031</td><td>-0.024467</td></tr><tr><td>2056111154</td><td>6627819709566016000</td><td>6627819709566016000</td><td>0.282285</td><td>-0.076204</td></tr></tbody></table></div>"
      ],
      "text/plain": [
       "shape: (1_680_008_480, 5)\n",
       "┌────────────┬─────────────────────┬─────────────────────┬──────────────────┬──────────────────────┐\n",
       "│ TIC        ┆ dr2_source_id       ┆ dr3_source_id       ┆ angular_distance ┆ magnitude_difference │\n",
       "│ ---        ┆ ---                 ┆ ---                 ┆ ---              ┆ ---                  │\n",
       "│ i64        ┆ i64                 ┆ i64                 ┆ f64              ┆ f64                  │\n",
       "╞════════════╪═════════════════════╪═════════════════════╪══════════════════╪══════════════════════╡\n",
       "│ 1          ┆ 6220232982534277760 ┆ 6220232982534277760 ┆ 0.031861         ┆ -0.012459            │\n",
       "│ 2          ┆ 6220232913814800640 ┆ 6220232913814800640 ┆ 0.074949         ┆ -0.027599            │\n",
       "│ 3          ┆ 6220232948174541696 ┆ 6220232948174541696 ┆ 0.063944         ┆ -0.010159            │\n",
       "│ 4          ┆ 6220232948174542464 ┆ 6220232948174542464 ┆ 0.03279          ┆ -0.017881            │\n",
       "│ 5          ┆ 6220233016894020352 ┆ 6220233016894020352 ┆ 0.1054018        ┆ -0.0109              │\n",
       "│ …          ┆ …                   ┆ …                   ┆ …                ┆ …                    │\n",
       "│ 2056111150 ┆ 6627816234937364352 ┆ 6627816234937364352 ┆ 0.5947274        ┆ -0.051826            │\n",
       "│ 2056111151 ┆ 6627816445390870656 ┆ 6627816445390870656 ┆ 3.8710597        ┆ -0.087215            │\n",
       "│ 2056111152 ┆ 6627819258594345984 ┆ 6627819258594345984 ┆ 0.206485         ┆ -0.017647            │\n",
       "│ 2056111153 ┆ 6627819297249758976 ┆ 6627819297250043520 ┆ 0.060031         ┆ -0.024467            │\n",
       "│ 2056111154 ┆ 6627819709566016000 ┆ 6627819709566016000 ┆ 0.282285         ┆ -0.076204            │\n",
       "└────────────┴─────────────────────┴─────────────────────┴──────────────────┴──────────────────────┘"
      ]
     },
     "execution_count": 9,
     "metadata": {},
     "output_type": "execute_result"
    }
   ],
   "source": [
    "ticgaia = ticgaia.sort(\"TIC\")\n",
    "ticgaia"
   ]
  },
  {
   "cell_type": "markdown",
   "id": "4f899c64-c524-4c1c-a2c7-78b95eb26839",
   "metadata": {},
   "source": [
    "#### Save the final file!"
   ]
  },
  {
   "cell_type": "code",
   "execution_count": 10,
   "id": "d291518e-2dcd-41e6-8bc5-02fd81483356",
   "metadata": {
    "execution": {
     "iopub.execute_input": "2025-01-18T21:39:32.684519Z",
     "iopub.status.busy": "2025-01-18T21:39:32.682824Z",
     "iopub.status.idle": "2025-01-18T21:44:25.428544Z",
     "shell.execute_reply": "2025-01-18T21:44:25.408447Z",
     "shell.execute_reply.started": "2025-01-18T21:39:32.684506Z"
    }
   },
   "outputs": [],
   "source": [
    "ticgaia.write_csv(\"ticdr2dr3.csv\",separator=\",\")"
   ]
  },
  {
   "cell_type": "markdown",
   "id": "3d1d3eb9-85d6-4486-8ab0-86d797a6face",
   "metadata": {},
   "source": [
    "#### **Bonus**: Identify which targets have multiple Gaia DR2/DR3 matches"
   ]
  },
  {
   "cell_type": "code",
   "execution_count": 11,
   "id": "0b63da06-fafe-4d21-9c84-3df30872dbae",
   "metadata": {
    "execution": {
     "iopub.execute_input": "2025-01-18T21:44:25.455509Z",
     "iopub.status.busy": "2025-01-18T21:44:25.449965Z",
     "iopub.status.idle": "2025-01-18T21:52:00.698117Z",
     "shell.execute_reply": "2025-01-18T21:52:00.685889Z",
     "shell.execute_reply.started": "2025-01-18T21:44:25.455406Z"
    }
   },
   "outputs": [
    {
     "data": {
      "text/html": [
       "<div><style>\n",
       ".dataframe > thead > tr,\n",
       ".dataframe > tbody > tr {\n",
       "  text-align: right;\n",
       "  white-space: pre-wrap;\n",
       "}\n",
       "</style>\n",
       "<small>shape: (146, 5)</small><table border=\"1\" class=\"dataframe\"><thead><tr><th>TIC</th><th>dr2_source_id</th><th>dr3_source_id</th><th>angular_distance</th><th>magnitude_difference</th></tr><tr><td>i64</td><td>i64</td><td>i64</td><td>f64</td><td>f64</td></tr></thead><tbody><tr><td>28294725</td><td>104991441918953984</td><td>104991441918953984</td><td>99.838585</td><td>-0.121298</td></tr><tr><td>28294725</td><td>104991441918953984</td><td>104991437623507200</td><td>97.942406</td><td>0.164927</td></tr><tr><td>33136230</td><td>4203641619689111168</td><td>4203641624045956864</td><td>88.82475</td><td>0.094122</td></tr><tr><td>33136230</td><td>4203641619689111168</td><td>4203641624045956736</td><td>98.77191</td><td>0.107105</td></tr><tr><td>203125275</td><td>4060983353237314176</td><td>4060983357525193216</td><td>97.750534</td><td>0.011034</td></tr><tr><td>&hellip;</td><td>&hellip;</td><td>&hellip;</td><td>&hellip;</td><td>&hellip;</td></tr><tr><td>1864487842</td><td>2031173395317380992</td><td>2031173395376312320</td><td>88.33441</td><td>0.150446</td></tr><tr><td>1866512827</td><td>2032067779335099008</td><td>2032067779335099008</td><td>88.09891</td><td>-0.10202</td></tr><tr><td>1866512827</td><td>2032067779335099008</td><td>2032067779335099136</td><td>91.134575</td><td>0.190321</td></tr><tr><td>1921419052</td><td>4515598052346828160</td><td>4515598052346828416</td><td>92.581635</td><td>-0.034456</td></tr><tr><td>1921419052</td><td>4515598052346828160</td><td>4515598052346828288</td><td>97.22255</td><td>0.041122</td></tr></tbody></table></div>"
      ],
      "text/plain": [
       "shape: (146, 5)\n",
       "┌────────────┬─────────────────────┬─────────────────────┬──────────────────┬──────────────────────┐\n",
       "│ TIC        ┆ dr2_source_id       ┆ dr3_source_id       ┆ angular_distance ┆ magnitude_difference │\n",
       "│ ---        ┆ ---                 ┆ ---                 ┆ ---              ┆ ---                  │\n",
       "│ i64        ┆ i64                 ┆ i64                 ┆ f64              ┆ f64                  │\n",
       "╞════════════╪═════════════════════╪═════════════════════╪══════════════════╪══════════════════════╡\n",
       "│ 28294725   ┆ 104991441918953984  ┆ 104991441918953984  ┆ 99.838585        ┆ -0.121298            │\n",
       "│ 28294725   ┆ 104991441918953984  ┆ 104991437623507200  ┆ 97.942406        ┆ 0.164927             │\n",
       "│ 33136230   ┆ 4203641619689111168 ┆ 4203641624045956864 ┆ 88.82475         ┆ 0.094122             │\n",
       "│ 33136230   ┆ 4203641619689111168 ┆ 4203641624045956736 ┆ 98.77191         ┆ 0.107105             │\n",
       "│ 203125275  ┆ 4060983353237314176 ┆ 4060983357525193216 ┆ 97.750534        ┆ 0.011034             │\n",
       "│ …          ┆ …                   ┆ …                   ┆ …                ┆ …                    │\n",
       "│ 1864487842 ┆ 2031173395317380992 ┆ 2031173395376312320 ┆ 88.33441         ┆ 0.150446             │\n",
       "│ 1866512827 ┆ 2032067779335099008 ┆ 2032067779335099008 ┆ 88.09891         ┆ -0.10202             │\n",
       "│ 1866512827 ┆ 2032067779335099008 ┆ 2032067779335099136 ┆ 91.134575        ┆ 0.190321             │\n",
       "│ 1921419052 ┆ 4515598052346828160 ┆ 4515598052346828416 ┆ 92.581635        ┆ -0.034456            │\n",
       "│ 1921419052 ┆ 4515598052346828160 ┆ 4515598052346828288 ┆ 97.22255         ┆ 0.041122             │\n",
       "└────────────┴─────────────────────┴─────────────────────┴──────────────────┴──────────────────────┘"
      ]
     },
     "execution_count": 11,
     "metadata": {},
     "output_type": "execute_result"
    }
   ],
   "source": [
    "ticgaiadup = ticgaia.filter(pl.col(\"TIC\").is_duplicated())\n",
    "ticgaiadup"
   ]
  },
  {
   "cell_type": "code",
   "execution_count": 12,
   "id": "3a5f570a-99fc-4e44-9c96-d0229553abdd",
   "metadata": {
    "execution": {
     "iopub.execute_input": "2025-01-20T17:09:16.213052Z",
     "iopub.status.busy": "2025-01-20T17:09:16.212346Z",
     "iopub.status.idle": "2025-01-20T17:21:09.402830Z",
     "shell.execute_reply": "2025-01-20T17:21:09.389005Z",
     "shell.execute_reply.started": "2025-01-20T17:09:16.213030Z"
    }
   },
   "outputs": [
    {
     "data": {
      "text/html": [
       "<div><style>\n",
       ".dataframe > thead > tr,\n",
       ".dataframe > tbody > tr {\n",
       "  text-align: right;\n",
       "  white-space: pre-wrap;\n",
       "}\n",
       "</style>\n",
       "<small>shape: (20_425_542, 5)</small><table border=\"1\" class=\"dataframe\"><thead><tr><th>TIC</th><th>dr2_source_id</th><th>dr3_source_id</th><th>angular_distance</th><th>magnitude_difference</th></tr><tr><td>i64</td><td>i64</td><td>i64</td><td>f64</td><td>f64</td></tr></thead><tbody><tr><td>42</td><td>6220282902937913984</td><td>6220282907234553472</td><td>0.9073327</td><td>0.150242</td></tr><tr><td>608</td><td>6222018280179964928</td><td>6222018280179964928</td><td>0.159115</td><td>-0.029999</td></tr><tr><td>624</td><td>6222019826368197888</td><td>6222019826368197888</td><td>0.05881</td><td>-0.009862</td></tr><tr><td>954</td><td>6222119843271118720</td><td>6222119843271118720</td><td>0.177956</td><td>-0.028215</td></tr><tr><td>1037</td><td>6222123966438809216</td><td>6222123966438809216</td><td>1.969019</td><td>0.056524</td></tr><tr><td>&hellip;</td><td>&hellip;</td><td>&hellip;</td><td>&hellip;</td><td>&hellip;</td></tr><tr><td>2056110706</td><td>6624775952143225728</td><td>6624775952143225728</td><td>0.124918</td><td>-0.016433</td></tr><tr><td>2056110755</td><td>6624779388117042432</td><td>6624779388117042432</td><td>0.050214</td><td>-0.014225</td></tr><tr><td>2056110756</td><td>6624779418181868160</td><td>6624779418181868160</td><td>0.60752</td><td>-0.006236</td></tr><tr><td>2056110758</td><td>6624779452541688064</td><td>6624779452541688064</td><td>0.063082</td><td>-0.02961</td></tr><tr><td>2056110803</td><td>6624782892809762048</td><td>6624782892809762048</td><td>39.750446</td><td>0.005507</td></tr></tbody></table></div>"
      ],
      "text/plain": [
       "shape: (20_425_542, 5)\n",
       "┌────────────┬─────────────────────┬─────────────────────┬──────────────────┬──────────────────────┐\n",
       "│ TIC        ┆ dr2_source_id       ┆ dr3_source_id       ┆ angular_distance ┆ magnitude_difference │\n",
       "│ ---        ┆ ---                 ┆ ---                 ┆ ---              ┆ ---                  │\n",
       "│ i64        ┆ i64                 ┆ i64                 ┆ f64              ┆ f64                  │\n",
       "╞════════════╪═════════════════════╪═════════════════════╪══════════════════╪══════════════════════╡\n",
       "│ 42         ┆ 6220282902937913984 ┆ 6220282907234553472 ┆ 0.9073327        ┆ 0.150242             │\n",
       "│ 608        ┆ 6222018280179964928 ┆ 6222018280179964928 ┆ 0.159115         ┆ -0.029999            │\n",
       "│ 624        ┆ 6222019826368197888 ┆ 6222019826368197888 ┆ 0.05881          ┆ -0.009862            │\n",
       "│ 954        ┆ 6222119843271118720 ┆ 6222119843271118720 ┆ 0.177956         ┆ -0.028215            │\n",
       "│ 1037       ┆ 6222123966438809216 ┆ 6222123966438809216 ┆ 1.969019         ┆ 0.056524             │\n",
       "│ …          ┆ …                   ┆ …                   ┆ …                ┆ …                    │\n",
       "│ 2056110706 ┆ 6624775952143225728 ┆ 6624775952143225728 ┆ 0.124918         ┆ -0.016433            │\n",
       "│ 2056110755 ┆ 6624779388117042432 ┆ 6624779388117042432 ┆ 0.050214         ┆ -0.014225            │\n",
       "│ 2056110756 ┆ 6624779418181868160 ┆ 6624779418181868160 ┆ 0.60752          ┆ -0.006236            │\n",
       "│ 2056110758 ┆ 6624779452541688064 ┆ 6624779452541688064 ┆ 0.063082         ┆ -0.02961             │\n",
       "│ 2056110803 ┆ 6624782892809762048 ┆ 6624782892809762048 ┆ 39.750446        ┆ 0.005507             │\n",
       "└────────────┴─────────────────────┴─────────────────────┴──────────────────┴──────────────────────┘"
      ]
     },
     "execution_count": 12,
     "metadata": {},
     "output_type": "execute_result"
    }
   ],
   "source": [
    "ticgaia2dup = ticgaia.filter(pl.col(\"dr2_source_id\").is_duplicated())\n",
    "ticgaia2dup"
   ]
  },
  {
   "cell_type": "code",
   "execution_count": 13,
   "id": "1d7be318-6d9d-47e6-bacf-cc4c85e0b710",
   "metadata": {
    "execution": {
     "iopub.execute_input": "2025-01-20T17:21:09.431088Z",
     "iopub.status.busy": "2025-01-20T17:21:09.427970Z",
     "iopub.status.idle": "2025-01-20T17:32:10.789716Z",
     "shell.execute_reply": "2025-01-20T17:32:10.777291Z",
     "shell.execute_reply.started": "2025-01-20T17:21:09.431069Z"
    }
   },
   "outputs": [
    {
     "data": {
      "text/html": [
       "<div><style>\n",
       ".dataframe > thead > tr,\n",
       ".dataframe > tbody > tr {\n",
       "  text-align: right;\n",
       "  white-space: pre-wrap;\n",
       "}\n",
       "</style>\n",
       "<small>shape: (20_425_462, 5)</small><table border=\"1\" class=\"dataframe\"><thead><tr><th>TIC</th><th>dr2_source_id</th><th>dr3_source_id</th><th>angular_distance</th><th>magnitude_difference</th></tr><tr><td>i64</td><td>i64</td><td>i64</td><td>f64</td><td>f64</td></tr></thead><tbody><tr><td>42</td><td>6220282902937913984</td><td>6220282907234553472</td><td>0.9073327</td><td>0.150242</td></tr><tr><td>608</td><td>6222018280179964928</td><td>6222018280179964928</td><td>0.159115</td><td>-0.029999</td></tr><tr><td>624</td><td>6222019826368197888</td><td>6222019826368197888</td><td>0.05881</td><td>-0.009862</td></tr><tr><td>954</td><td>6222119843271118720</td><td>6222119843271118720</td><td>0.177956</td><td>-0.028215</td></tr><tr><td>1037</td><td>6222123966438809216</td><td>6222123966438809216</td><td>1.969019</td><td>0.056524</td></tr><tr><td>&hellip;</td><td>&hellip;</td><td>&hellip;</td><td>&hellip;</td><td>&hellip;</td></tr><tr><td>2056110706</td><td>6624775952143225728</td><td>6624775952143225728</td><td>0.124918</td><td>-0.016433</td></tr><tr><td>2056110755</td><td>6624779388117042432</td><td>6624779388117042432</td><td>0.050214</td><td>-0.014225</td></tr><tr><td>2056110756</td><td>6624779418181868160</td><td>6624779418181868160</td><td>0.60752</td><td>-0.006236</td></tr><tr><td>2056110758</td><td>6624779452541688064</td><td>6624779452541688064</td><td>0.063082</td><td>-0.02961</td></tr><tr><td>2056110803</td><td>6624782892809762048</td><td>6624782892809762048</td><td>39.750446</td><td>0.005507</td></tr></tbody></table></div>"
      ],
      "text/plain": [
       "shape: (20_425_462, 5)\n",
       "┌────────────┬─────────────────────┬─────────────────────┬──────────────────┬──────────────────────┐\n",
       "│ TIC        ┆ dr2_source_id       ┆ dr3_source_id       ┆ angular_distance ┆ magnitude_difference │\n",
       "│ ---        ┆ ---                 ┆ ---                 ┆ ---              ┆ ---                  │\n",
       "│ i64        ┆ i64                 ┆ i64                 ┆ f64              ┆ f64                  │\n",
       "╞════════════╪═════════════════════╪═════════════════════╪══════════════════╪══════════════════════╡\n",
       "│ 42         ┆ 6220282902937913984 ┆ 6220282907234553472 ┆ 0.9073327        ┆ 0.150242             │\n",
       "│ 608        ┆ 6222018280179964928 ┆ 6222018280179964928 ┆ 0.159115         ┆ -0.029999            │\n",
       "│ 624        ┆ 6222019826368197888 ┆ 6222019826368197888 ┆ 0.05881          ┆ -0.009862            │\n",
       "│ 954        ┆ 6222119843271118720 ┆ 6222119843271118720 ┆ 0.177956         ┆ -0.028215            │\n",
       "│ 1037       ┆ 6222123966438809216 ┆ 6222123966438809216 ┆ 1.969019         ┆ 0.056524             │\n",
       "│ …          ┆ …                   ┆ …                   ┆ …                ┆ …                    │\n",
       "│ 2056110706 ┆ 6624775952143225728 ┆ 6624775952143225728 ┆ 0.124918         ┆ -0.016433            │\n",
       "│ 2056110755 ┆ 6624779388117042432 ┆ 6624779388117042432 ┆ 0.050214         ┆ -0.014225            │\n",
       "│ 2056110756 ┆ 6624779418181868160 ┆ 6624779418181868160 ┆ 0.60752          ┆ -0.006236            │\n",
       "│ 2056110758 ┆ 6624779452541688064 ┆ 6624779452541688064 ┆ 0.063082         ┆ -0.02961             │\n",
       "│ 2056110803 ┆ 6624782892809762048 ┆ 6624782892809762048 ┆ 39.750446        ┆ 0.005507             │\n",
       "└────────────┴─────────────────────┴─────────────────────┴──────────────────┴──────────────────────┘"
      ]
     },
     "execution_count": 13,
     "metadata": {},
     "output_type": "execute_result"
    }
   ],
   "source": [
    "ticgaia3dup = ticgaia.filter(pl.col(\"dr3_source_id\").is_duplicated())\n",
    "ticgaia3dup"
   ]
  },
  {
   "cell_type": "code",
   "execution_count": 14,
   "id": "6c5c02af-cb59-4143-9d34-06d15f017a91",
   "metadata": {
    "execution": {
     "iopub.execute_input": "2025-01-20T17:33:27.322402Z",
     "iopub.status.busy": "2025-01-20T17:33:27.320908Z",
     "iopub.status.idle": "2025-01-20T17:33:30.234358Z",
     "shell.execute_reply": "2025-01-20T17:33:30.233820Z",
     "shell.execute_reply.started": "2025-01-20T17:33:27.322386Z"
    }
   },
   "outputs": [
    {
     "data": {
      "text/html": [
       "<div><style>\n",
       ".dataframe > thead > tr,\n",
       ".dataframe > tbody > tr {\n",
       "  text-align: right;\n",
       "  white-space: pre-wrap;\n",
       "}\n",
       "</style>\n",
       "<small>shape: (20_425_542, 5)</small><table border=\"1\" class=\"dataframe\"><thead><tr><th>TIC</th><th>dr2_source_id</th><th>dr3_source_id</th><th>angular_distance</th><th>magnitude_difference</th></tr><tr><td>i64</td><td>i64</td><td>i64</td><td>f64</td><td>f64</td></tr></thead><tbody><tr><td>347548683</td><td>8250632981888</td><td>8250632981888</td><td>0.118059</td><td>-0.013992</td></tr><tr><td>640000055</td><td>8250632981888</td><td>8250632981888</td><td>0.118059</td><td>-0.013992</td></tr><tr><td>347570976</td><td>17390323414400</td><td>17390323414400</td><td>0.154151</td><td>-0.020091</td></tr><tr><td>640000131</td><td>17390323414400</td><td>17390323414400</td><td>0.154151</td><td>-0.020091</td></tr><tr><td>347548475</td><td>25980257976960</td><td>25980257976960</td><td>35.415405</td><td>0.094322</td></tr><tr><td>&hellip;</td><td>&hellip;</td><td>&hellip;</td><td>&hellip;</td><td>&hellip;</td></tr><tr><td>1997433643</td><td>6917506590732371456</td><td>6917506590732371456</td><td>0.321679</td><td>-0.023991</td></tr><tr><td>248849874</td><td>6917520442001631104</td><td>6917520442001631104</td><td>0.128425</td><td>-0.016129</td></tr><tr><td>1997434506</td><td>6917520442001631104</td><td>6917520442001631104</td><td>0.128425</td><td>-0.016129</td></tr><tr><td>248849771</td><td>6917525591669159424</td><td>6917525591669159424</td><td>0.074064</td><td>-0.022373</td></tr><tr><td>1997434846</td><td>6917525591669159424</td><td>6917525591669159424</td><td>0.074064</td><td>-0.022373</td></tr></tbody></table></div>"
      ],
      "text/plain": [
       "shape: (20_425_542, 5)\n",
       "┌────────────┬─────────────────────┬─────────────────────┬──────────────────┬──────────────────────┐\n",
       "│ TIC        ┆ dr2_source_id       ┆ dr3_source_id       ┆ angular_distance ┆ magnitude_difference │\n",
       "│ ---        ┆ ---                 ┆ ---                 ┆ ---              ┆ ---                  │\n",
       "│ i64        ┆ i64                 ┆ i64                 ┆ f64              ┆ f64                  │\n",
       "╞════════════╪═════════════════════╪═════════════════════╪══════════════════╪══════════════════════╡\n",
       "│ 347548683  ┆ 8250632981888       ┆ 8250632981888       ┆ 0.118059         ┆ -0.013992            │\n",
       "│ 640000055  ┆ 8250632981888       ┆ 8250632981888       ┆ 0.118059         ┆ -0.013992            │\n",
       "│ 347570976  ┆ 17390323414400      ┆ 17390323414400      ┆ 0.154151         ┆ -0.020091            │\n",
       "│ 640000131  ┆ 17390323414400      ┆ 17390323414400      ┆ 0.154151         ┆ -0.020091            │\n",
       "│ 347548475  ┆ 25980257976960      ┆ 25980257976960      ┆ 35.415405        ┆ 0.094322             │\n",
       "│ …          ┆ …                   ┆ …                   ┆ …                ┆ …                    │\n",
       "│ 1997433643 ┆ 6917506590732371456 ┆ 6917506590732371456 ┆ 0.321679         ┆ -0.023991            │\n",
       "│ 248849874  ┆ 6917520442001631104 ┆ 6917520442001631104 ┆ 0.128425         ┆ -0.016129            │\n",
       "│ 1997434506 ┆ 6917520442001631104 ┆ 6917520442001631104 ┆ 0.128425         ┆ -0.016129            │\n",
       "│ 248849771  ┆ 6917525591669159424 ┆ 6917525591669159424 ┆ 0.074064         ┆ -0.022373            │\n",
       "│ 1997434846 ┆ 6917525591669159424 ┆ 6917525591669159424 ┆ 0.074064         ┆ -0.022373            │\n",
       "└────────────┴─────────────────────┴─────────────────────┴──────────────────┴──────────────────────┘"
      ]
     },
     "execution_count": 14,
     "metadata": {},
     "output_type": "execute_result"
    }
   ],
   "source": [
    "ticgaia2dup = ticgaia2dup.sort(\"dr2_source_id\")\n",
    "ticgaia2dup"
   ]
  },
  {
   "cell_type": "code",
   "execution_count": null,
   "id": "c7c6b5a9-8b8e-4425-9e51-e211eb157423",
   "metadata": {},
   "outputs": [],
   "source": []
  }
 ],
 "metadata": {
  "kernelspec": {
   "display_name": "Python 3 (ipykernel)",
   "language": "python",
   "name": "python3"
  },
  "language_info": {
   "codemirror_mode": {
    "name": "ipython",
    "version": 3
   },
   "file_extension": ".py",
   "mimetype": "text/x-python",
   "name": "python",
   "nbconvert_exporter": "python",
   "pygments_lexer": "ipython3",
   "version": "3.12.7"
  }
 },
 "nbformat": 4,
 "nbformat_minor": 5
}
